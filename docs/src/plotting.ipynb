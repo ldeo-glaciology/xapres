{
 "cells": [
  {
   "cell_type": "markdown",
   "metadata": {},
   "source": [
    "(page:how-to-plotting)=\n",
    "# Plotting\n",
    "This page contains a few ideas for plotting ApRES data using xApRES, starting with simple implementations of xarray plotting functions and moving on to more complex examples. "
   ]
  },
  {
   "cell_type": "code",
   "execution_count": null,
   "metadata": {},
   "outputs": [],
   "source": [
    "import sys\n",
    "sys.path.append(\"../../../xapres\") \n",
    "import xapres as xa\n",
    "data = xa.load.load_zarr('gs://ldeo-glaciology/apres/thwaites/continuous/ApRES_LTG/zarr/full.zarr') \n",
    "data"
   ]
  },
  {
   "cell_type": "markdown",
   "metadata": {},
   "source": [
    "## Simple plotting\n",
    "The xarray documentation includes a comprehensive guide to its plotting routines: https://docs.xarray.dev/en/stable/user-guide/plotting.html."
   ]
  },
  {
   "cell_type": "markdown",
   "metadata": {},
   "source": [
    "### Single chirps and profiles"
   ]
  },
  {
   "cell_type": "code",
   "execution_count": null,
   "metadata": {},
   "outputs": [],
   "source": [
    "data.chirp.isel(chirp_num = 50, time = 200).plot(figsize = (20,5), xlim = (0, 1e9));"
   ]
  },
  {
   "cell_type": "code",
   "execution_count": null,
   "metadata": {},
   "outputs": [],
   "source": [
    "data.profile.dB().isel(chirp_num = 50, time = 200).plot(figsize = (20,5), xlim = (0, 2500));"
   ]
  },
  {
   "cell_type": "code",
   "execution_count": null,
   "metadata": {},
   "outputs": [],
   "source": [
    "data.chirp.sel(chirp_num=0, time = slice('2023-05-15','2023-05-30', 4)).plot(row='time', figsize = (10, 10));"
   ]
  },
  {
   "cell_type": "markdown",
   "metadata": {},
   "source": [
    "### Histograms \n"
   ]
  },
  {
   "cell_type": "code",
   "execution_count": null,
   "metadata": {},
   "outputs": [],
   "source": [
    "data.chirp.isel(time = slice(20, 25)).plot.hist();   "
   ]
  },
  {
   "cell_type": "markdown",
   "metadata": {},
   "source": [
    "```{note}\n",
    "Usually you would plot a larger subset of the data in a histogram, but `time = slice(20,25)` saves time downloading data in this guide. \n",
    "```"
   ]
  },
  {
   "cell_type": "markdown",
   "metadata": {},
   "source": [
    "A consideration when designing a ApRES survey is avoiding 'clipping' If the returned signal is too high in amplitude multiple components inside the radar can behave in undesirable ways, leading to distortions in the signal or artificial cropping of the chirp at a maximum and minimum value. This is referred to as 'clipping'. Plotting a histogram of the chirp data is useful for choosing attenuator settings to avoid clipping. Usually this is done on the radar unit itself while connected to a laptop in the field, but it can also be useful in post-processing.  "
   ]
  },
  {
   "cell_type": "markdown",
   "metadata": {},
   "source": [
    "### Time series of profiles"
   ]
  },
  {
   "cell_type": "code",
   "execution_count": null,
   "metadata": {},
   "outputs": [],
   "source": [
    "data.profile_stacked.dB().squeeze().plot(x='time', yincrease = False, figsize = (20,5));"
   ]
  },
  {
   "cell_type": "markdown",
   "metadata": {},
   "source": [
    "### Time series of velocity/displacement/coherence/phase"
   ]
  },
  {
   "cell_type": "code",
   "execution_count": null,
   "metadata": {},
   "outputs": [],
   "source": [
    "d = data.profile_stacked.displacement_timeseries()"
   ]
  },
  {
   "cell_type": "code",
   "execution_count": null,
   "metadata": {},
   "outputs": [],
   "source": [
    "variable_to_plot = ['coherence','phase','phase_uncertainty','velocity', 'displacement', 'disp_uncertainty']\n",
    "\n",
    "d[variable_to_plot[4]].plot(figsize = (20,5), y='bin_depth', x='time', yincrease = False);"
   ]
  },
  {
   "cell_type": "markdown",
   "metadata": {},
   "source": [
    "### Multiple velocity profiles"
   ]
  },
  {
   "cell_type": "code",
   "execution_count": null,
   "metadata": {},
   "outputs": [],
   "source": [
    "d.velocity.sel(time = slice('2023-05-15','2023-06-10', 4)).plot(col = 'time', y = 'bin_depth', yincrease = False, ylim = (1000, 0), xlim = (-10, 10));"
   ]
  },
  {
   "cell_type": "markdown",
   "metadata": {},
   "source": [
    "### Interactive plot with mutliple profiles"
   ]
  },
  {
   "cell_type": "code",
   "execution_count": null,
   "metadata": {},
   "outputs": [],
   "source": [
    "import hvplot.xarray\n",
    "import numpy as np\n",
    "\n",
    "sliced = d.squeeze().sel(time = slice('2023-05-15','2023-06-10'))\n",
    "\n",
    "sliced.velocity.hvplot(y = \"bin_depth\", groupby = \"time\", height = 400, width = 400,  xlim = (-10, 10), flip_yaxis=True)\\\n",
    "    + np.abs(sliced.coherence).hvplot(y = \"bin_depth\", groupby = \"time\", height = 400, width = 400,  xlim = (0.5, 1.1), flip_yaxis=True)"
   ]
  },
  {
   "cell_type": "markdown",
   "metadata": {},
   "source": [
    "### Time series of strain rate"
   ]
  },
  {
   "cell_type": "code",
   "execution_count": null,
   "metadata": {},
   "outputs": [],
   "source": [
    "d.strain_rate.plot(figsize = (20,5));"
   ]
  },
  {
   "cell_type": "markdown",
   "metadata": {},
   "source": [
    "## More complex plotting"
   ]
  },
  {
   "cell_type": "markdown",
   "metadata": {},
   "source": [
    "### Progressive stacking\n",
    "\n",
    "Create an xarray with many stacked profiles, each one created by averaging a different number of profiles."
   ]
  },
  {
   "cell_type": "code",
   "execution_count": null,
   "metadata": {},
   "outputs": [],
   "source": [
    "da_list=[]\n",
    "for n in data.chirp_num.values:\n",
    "    da_list.append(data.isel(time=0, attenuator_setting_pair=0, chirp_num = slice(0,n)).profile.mean(dim='chirp_num').dB())"
   ]
  },
  {
   "cell_type": "code",
   "execution_count": null,
   "metadata": {},
   "outputs": [],
   "source": [
    "import xarray as xr\n",
    "number_of_profile_stacked = xr.DataArray(np.arange(0, len(data.chirp_num)), dims='number_of_profile_stacked', name='number_of_profile_stacked')\n",
    "da = xr.concat(da_list, dim = number_of_profile_stacked).rename('profile')"
   ]
  },
  {
   "cell_type": "markdown",
   "metadata": {},
   "source": [
    "We can take a look at the effect of stacking on the noise floor by plotting out multiple profiles from the xarray we created above, each corresponding to a different number of profiles stacked together. "
   ]
  },
  {
   "cell_type": "code",
   "execution_count": null,
   "metadata": {},
   "outputs": [],
   "source": [
    "da.isel(number_of_profile_stacked =[1, 4, 20, 99]).plot(xlim = (0, 2500), hue = 'number_of_profile_stacked', figsize = (15, 5));\n"
   ]
  },
  {
   "cell_type": "markdown",
   "metadata": {},
   "source": [
    "### Changing parameters and plotting results\n",
    "\n",
    "`xarray_grid_search.grid_search` is a function currently stored in a github gist that provides a useful way of changing parameters and storing the result in an xarray dataset. If you are running this notebook for the first time you will need to uncomment and run the code in the cell below to download the gist."
   ]
  },
  {
   "cell_type": "code",
   "execution_count": null,
   "metadata": {},
   "outputs": [],
   "source": [
    "#!getgist jkingslake xarray_grid_search.py"
   ]
  },
  {
   "cell_type": "markdown",
   "metadata": {},
   "source": [
    "Then we can import the gist and use it to compute a displacement timeseries multiple times, each time using a different set of parameters."
   ]
  },
  {
   "cell_type": "code",
   "execution_count": null,
   "metadata": {},
   "outputs": [],
   "source": [
    "import xarray_grid_search as xgs\n",
    "varying_lower_fit_limit = xgs.gridSearch(data.profile_stacked.displacement_timeseries, lower_limit_on_fit=[200, 400, 600])\n",
    "varying_lower_fit_limit.strain_rate.plot(hue='lower_limit_on_fit');"
   ]
  },
  {
   "cell_type": "markdown",
   "metadata": {},
   "source": [
    "Unfortunately, `xarray_grid_search.grid_search` does not currently work well when you change parameters that result in changes to the length of the results in any dimension. You can still use the function, but it increases the volume of the data and introduces `nan`s that need to be dealt with before plotting. \n",
    "\n",
    "To deal with the common situation when you want to change a parameter that effects the length of the data, you can either apply `xarray_grid_search.grid_search` and interpolate the result to remove the `nan`s (this works, but is inefficient and may be slow for large datasets), or you can do things a bit more manually. \n",
    "\n",
    "Here's an example where we interpolate over the `nan`s. "
   ]
  },
  {
   "cell_type": "code",
   "execution_count": null,
   "metadata": {},
   "outputs": [],
   "source": [
    "varying_bin_size = xgs.gridSearch(data.profile_stacked.displacement_timeseries, bin_size=[10, 20, 40, 50])\n",
    "varying_bin_size"
   ]
  },
  {
   "cell_type": "markdown",
   "metadata": {},
   "source": [
    "Plotting variables that only have dimensions that are not the dimensions that changed in length is straightforward:"
   ]
  },
  {
   "cell_type": "code",
   "execution_count": null,
   "metadata": {},
   "outputs": [],
   "source": [
    "varying_bin_size.strain_rate.hvplot( x = 'time')"
   ]
  },
  {
   "cell_type": "markdown",
   "metadata": {},
   "source": [
    "However, to plot any of the 2D arrays we need to interpolate over the `nan`s using `interpolate_na`. To do this we must first rechunk to have only one chunk in the `bin_depth` dimension:"
   ]
  },
  {
   "cell_type": "code",
   "execution_count": null,
   "metadata": {},
   "outputs": [],
   "source": [
    "varying_bin_size_interpolated = varying_bin_size.chunk(dict(bin_depth=-1)).interpolate_na(dim='bin_depth')\n",
    "varying_bin_size_interpolated.sel(time = slice('2023-05-15','2023-06-10') ).velocity.squeeze().hvplot(x='time', y = 'bin_depth')"
   ]
  },
  {
   "cell_type": "markdown",
   "metadata": {},
   "source": [
    "The more manual option avoids creating and interpolating over many `nan`s, so might be quicker in most cases."
   ]
  },
  {
   "cell_type": "code",
   "execution_count": null,
   "metadata": {},
   "outputs": [],
   "source": [
    "import matplotlib.pyplot as plt\n",
    "fig, ax = fig, axs = plt.subplots(2, 2, figsize=(10, 8))\n",
    "\n",
    "data.profile_stacked.displacement_timeseries(lower_limit_on_fit=800, offset = 1).velocity.plot(ax = ax[0,0], x='time', yincrease = False, vmin=-15, vmax = 15)\n",
    "data.profile_stacked.displacement_timeseries(lower_limit_on_fit=800, offset = 2).velocity.plot(ax = ax[0,1], x='time', yincrease = False, vmin=-15, vmax = 15)\n",
    "data.profile_stacked.displacement_timeseries(lower_limit_on_fit=800, offset = 3).velocity.plot(ax = ax[1,0], x='time', yincrease = False, vmin=-15, vmax = 15)\n",
    "data.profile_stacked.displacement_timeseries(lower_limit_on_fit=800, offset = 4).velocity.plot(ax = ax[1,1], x='time', yincrease = False, vmin=-15, vmax = 15)\n",
    "plt.tight_layout()"
   ]
  },
  {
   "cell_type": "markdown",
   "metadata": {},
   "source": [
    "## Summary\n",
    "- Above we have provided various ideas for exploratory plotting of ApRES data once it has been loaded into an xarray dataset.\n",
    "- xarray's plotting tools make simple plots easy. \n",
    "- hvplot is a package that creates interactive plots that are useful for exploring multi-dimensional data. \n",
    "- `xarray_grid_search.grid_search` provides a way to run a computation multiple times while changing parameters and store the results, however it does not work well when the length of the data changes. "
   ]
  },
  {
   "cell_type": "markdown",
   "metadata": {},
   "source": []
  }
 ],
 "metadata": {
  "kernelspec": {
   "display_name": "jupyter-book-env",
   "language": "python",
   "name": "python3"
  },
  "language_info": {
   "codemirror_mode": {
    "name": "ipython",
    "version": 3
   },
   "file_extension": ".py",
   "mimetype": "text/x-python",
   "name": "python",
   "nbconvert_exporter": "python",
   "pygments_lexer": "ipython3",
   "version": "3.13.1"
  }
 },
 "nbformat": 4,
 "nbformat_minor": 2
}
