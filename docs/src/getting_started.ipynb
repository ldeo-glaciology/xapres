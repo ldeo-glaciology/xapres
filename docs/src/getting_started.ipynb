{
 "cells": [
  {
   "cell_type": "markdown",
   "metadata": {},
   "source": [
    "(getting-started)=\n",
    "# Getting started\n",
    "## Installation \n",
    "The simplest approach is to enter\n",
    "```bash\n",
    "pip install xapres\n",
    "```\n",
    "in the terminal.\n",
    "\n",
    "Alternatively, you could clone the repository from GitHub, https://github.com/ldeo-glaciology/xapres, install dependencies using \n",
    "\n",
    "```bash\n",
    "conda env create -f environment.yml\n",
    "```\n",
    "\n",
    "and add the xapres repository to your python path before loading the package. If `dir_containing_xapres_repo` is the absolute path to the directory containing the xapres repository, the following will add the repo to your path \n",
    "\n",
    "```python\n",
    "import sys\n",
    "sys.path.append(dir_containing_xapres_repo + \"/xapres/\")\n",
    "```\n",
    "\n",
    "You can also do this with a relative path as follows:\n"
   ]
  },
  {
   "cell_type": "code",
   "execution_count": null,
   "metadata": {},
   "outputs": [],
   "source": [
    "import sys\n",
    "sys.path.append(\"../../../xapres\") # note that this notebook is running in the docs/src directory, so ../../../xapres/ is the correct relative path to use. "
   ]
  },
  {
   "cell_type": "markdown",
   "metadata": {
    "vscode": {
     "languageId": "plaintext"
    }
   },
   "source": [
    "## Loading the package\n",
    "To load the package into a python session use \n",
    "```python\n",
    "import xapres\n",
    "```\n",
    "In this documentation we use"
   ]
  },
  {
   "cell_type": "code",
   "execution_count": 2,
   "metadata": {},
   "outputs": [],
   "source": [
    "import xapres as xa"
   ]
  },
  {
   "cell_type": "markdown",
   "metadata": {},
   "source": [
    "## Loading ApRES data into an xarray\n",
    "One main purpose of the xapres package is to load ApRES data stored in binary files produced by the radar into xarray datasets. This allows for easy manipulation, processing and plotting. \n",
    "\n",
    "We will load example data collected on Thwaites glacier as part of the International Thwaites Glacier Collaboration (ITGC). The data were collected in unattended mode, meaning that repeat measurements were taken at the same location (see {ref}`section:apres_survey_structure`)."
   ]
  },
  {
   "cell_type": "code",
   "execution_count": null,
   "metadata": {},
   "outputs": [
    {
     "name": "stderr",
     "output_type": "stream",
     "text": [
      "100%|██████████| 1/1 [00:00<00:00,  2.50it/s]\n"
     ]
    }
   ],
   "source": [
    "data = xa.load.generate_xarray(directory='../data/thwaites/');"
   ]
  },
  {
   "cell_type": "markdown",
   "metadata": {},
   "source": [
    "The function `xa.load.generate_xarray` finds all the dat files in the directory supplied to it and loads them into an xarray. It also performs a fast fourier transform on the data to compute complex profiles (see [here](https://ldeo-glaciology.github.io/glaciology-intro-book/sections/radar/apres/theory_1.html) for an explanation of the theory).\n",
    "\n",
    "The following displays the structure of the dataset. "
   ]
  },
  {
   "cell_type": "code",
   "execution_count": null,
   "metadata": {},
   "outputs": [],
   "source": [
    "data"
   ]
  },
  {
   "cell_type": "markdown",
   "metadata": {},
   "source": [
    "The two most important data variables are:\n",
    ":`chirp`: the 'deramped' chirp. I.e. the signal recorded by the radar after the received signal is mixed with the transmitted signal and low-pass filtered. This is an array of real values. \n",
    ":`profile`: the profile resulting from an fast- fourier transform of the chirp. This is an array of complex values.\n",
    "\n",
    "See {ref}`page:how-to-loading` for more details on the structure of this xarray dataset. \n"
   ]
  },
  {
   "cell_type": "markdown",
   "metadata": {},
   "source": [
    "## Plotting\n",
    "We can now use xarray's powerful, high-level slicing and plotting methods to take a quick look at the data. For example, to plot the 10th chirp from the second burst:"
   ]
  },
  {
   "cell_type": "code",
   "execution_count": null,
   "metadata": {},
   "outputs": [],
   "source": [
    "data.chirp.isel(time=1, chirp_num=9).plot();"
   ]
  },
  {
   "cell_type": "markdown",
   "metadata": {},
   "source": [
    "To plot the profile from the same chirp, we first make use of the `dB` method that xapres adds to xarray datasets to compute the power in decibels, then use xarray's plot method, specifying the x axis limits: \n"
   ]
  },
  {
   "cell_type": "code",
   "execution_count": null,
   "metadata": {},
   "outputs": [],
   "source": [
    "data.profile.isel(time=1, chirp_num=9).dB().plot(xlim=[0, 2500]);"
   ]
  },
  {
   "cell_type": "markdown",
   "metadata": {},
   "source": [
    "## Stacking\n",
    "Averaging all the chirps in each burst is generally referred to as stacking in ApRES processing. \n",
    "\n",
    "In xarray this is is a straigthforward operation that is easily applied to the whole dataset, i.e. all bursts and all attenuator settings:"
   ]
  },
  {
   "cell_type": "code",
   "execution_count": null,
   "metadata": {},
   "outputs": [],
   "source": [
    "stacked_profiles = data.profile.mean(dim='chirp_num')"
   ]
  },
  {
   "cell_type": "markdown",
   "metadata": {},
   "source": [
    "To briefly explore the impact of stacking we can plot one profile on top of the stacked profile:"
   ]
  },
  {
   "cell_type": "code",
   "execution_count": null,
   "metadata": {},
   "outputs": [],
   "source": [
    "import matplotlib.pyplot as plt\n",
    "data.profile.isel(time=1, chirp_num=9).dB().plot(xlim=[0, 2500], label = 'individual profile', add_legend=True)\n",
    "stacked_profiles.isel(time=1).dB().plot(xlim=[0, 2500], label = 'stacked profile', add_legend=True)\n",
    "plt.legend();"
   ]
  },
  {
   "cell_type": "markdown",
   "metadata": {},
   "source": [
    "The bed is more clearly seen around 2200 m in the stacked profile. See {ref}`page:how-to-stacking` for more details on stacking."
   ]
  },
  {
   "cell_type": "markdown",
   "metadata": {},
   "source": [
    "## Compute vertical velocity\n",
    "A common processing step in ApRES data is to use two profiles to compute the vertical displacement of the ice during the time between the two measurements. xapres has a function in the utils module to do this called `displacement_timeseries`:"
   ]
  },
  {
   "cell_type": "code",
   "execution_count": null,
   "metadata": {},
   "outputs": [],
   "source": [
    "d = stacked_profiles.displacement_timeseries()\n",
    "d"
   ]
  },
  {
   "cell_type": "markdown",
   "metadata": {},
   "source": [
    "This produced a new xarray dataset with several new variables, including the displacement, the velocity, and their associated uncertainties, as well as the coherence between the two profiles. It also stores the two profiles themselves and computes the strain rate and related quantities. \n",
    "\n",
    "We can plot the velocity as a function of depth as follows:"
   ]
  },
  {
   "cell_type": "code",
   "execution_count": null,
   "metadata": {},
   "outputs": [],
   "source": [
    "d.velocity.plot(y = 'bin_depth', yincrease=False, xlim = (-2, 7), ylim = (1200,0));"
   ]
  },
  {
   "cell_type": "markdown",
   "metadata": {},
   "source": [
    "## Summary\n",
    "This page has shown you how to get started with the xapres package by loading ApRES data collected, performing some basic processing steps, and plotting the results.\n",
    "\n",
    "The following pages get it to more detail on how to load ApRES data collected in both unattended and attended mode, save it to a cloud format (zarr), perform the fundamental fft processing step while varying some processing options, and perform the displacement calculation while varying other options."
   ]
  },
  {
   "cell_type": "markdown",
   "metadata": {},
   "source": []
  }
 ],
 "metadata": {
  "kernelspec": {
   "display_name": "full_py_env",
   "language": "python",
   "name": "python3"
  },
  "language_info": {
   "codemirror_mode": {
    "name": "ipython",
    "version": 3
   },
   "file_extension": ".py",
   "mimetype": "text/x-python",
   "name": "python",
   "nbconvert_exporter": "python",
   "pygments_lexer": "ipython3",
   "version": "3.11.11"
  }
 },
 "nbformat": 4,
 "nbformat_minor": 2
}
