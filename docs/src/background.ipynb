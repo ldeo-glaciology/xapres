{
 "cells": [
  {
   "cell_type": "markdown",
   "metadata": {},
   "source": [
    "# Background\n",
    "\n",
    "## Structure of an ApRES survey\n",
    "To best understanding the data structures produced by xapres, it helps to understand the structure of an ApRES survey. \n",
    "The structure of an ApRES survey can get quite complex. The figure below depicts one possible structure of an unattended survey, where the radar performs repeated measurements at regular intervals autonomously. \n",
    "\n",
    "![ApRES data structure](images/ApRES_data_diagram.png)\n"
   ]
  },
  {
   "cell_type": "markdown",
   "metadata": {},
   "source": [
    "### Chirps\n",
    "The radar emits individual 'chirps' which each generate a 40,001-element-long time series of data. The chirps are emitted at a rate of 1 per second. \n",
    "### Bursts\n",
    "The chirps are grouped into 'bursts'. Each burst contains a user-definable number of chirps, which in the diagram above is 20 chirps. The system is setup to perform bursts at regular intervals. Some surveys have collected 10's of thousands of bursts over multiple years. \n",
    "### Attenuator settings\n",
    "The ApRES has user-definable attenuator settings which are chosen during installation to ensure the signal is not too strong or too weak. Typically we choose more than one attenuator setting and cycle through them during each burst. For example, if we have three attenuator settings, and 20 chirps per burst, per setting, the sequence of chirps would be 20 chirps using attenuator setting 1, followed by 20 chirps using attenuator setting 2, followed by 20 chirps using attenuator setting 3, followed by 20 chirps using attenuator setting 1, and so on.\n",
    "\n",
    "This complexity leads to a four-dimensional dataset: 1) the time of each burst, 2) the chirp number within each burst, 3) the attenuator setting, and 4) the sample number within each chirp. A typical workflow for processing datasets collected by such a survey is through nested for-loops and it is a major challenge keeping track of which chirp belongs where. \n",
    "\n",
    "Avoiding this challenging situation is a motivation for the development of the xapres package. In the following pages we will cover how to load and process ApRES data with xapres. \n",
    "\n"
   ]
  },
  {
   "cell_type": "markdown",
   "metadata": {},
   "source": []
  }
 ],
 "metadata": {
  "language_info": {
   "name": "python"
  }
 },
 "nbformat": 4,
 "nbformat_minor": 2
}
