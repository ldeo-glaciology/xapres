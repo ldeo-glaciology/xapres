{
 "cells": [
  {
   "cell_type": "markdown",
   "metadata": {},
   "source": [
    "(page:background)=\n",
    "# Background\n",
    "\n",
    "(section:apres_survey_structure)=\n",
    "## Structure of an ApRES survey\n",
    "To understand the data structures produced by xapres, it helps to understand the structure of an ApRES survey. \n",
    "\n",
    "\n",
    "\n",
    "```{figure} images/ApRES_data_diagram_unattened.png\n",
    "---\n",
    "height: 500px\n",
    "name: fig:apres_survey_structure_unattended\n",
    "---\n",
    "The structure of an unattended ApRES survey. Typically, profiles produced from chirps in different bursts are compared to compute displacement. \n",
    "```\n",
    "\n"
   ]
  },
  {
   "cell_type": "markdown",
   "metadata": {},
   "source": [
    "### Unattended surveys\n",
    "{numref}`fig:apres_survey_structure_unattended` depicts one possible structure of an unattended survey, where the radar performs repeated measurements at regular intervals autonomously. \n",
    "\n",
    ":Chirps: The radar emits individual 'chirps' which each generate a 40,001-element-long time series of data. The chirps are emitted at a rate of one per second. \n",
    ":Bursts: The chirps are grouped into 'bursts'. Each burst contains a user-definable number of chirps. The system is setup to perform bursts at regular intervals. Some surveys have collected ten's of thousands of bursts over multiple years. \n",
    ":Attenuator settings: The ApRES has user-definable attenuator settings which are chosen during installation to ensure the signal is not too strong or too weak. Typically we choose more than one attenuator setting and cycle through them during each burst. For example, if we have three attenuator settings, and 20 chirps per burst, per setting, the sequence of chirps would be 20 chirps using attenuator setting 1, followed by 20 chirps using attenuator setting 2, followed by 20 chirps using attenuator setting 3. \n",
    "\n",
    "This leads to a four-dimensional dataset. In an unattended survey these dimensions are 1) the time of each burst, 2) the chirp number within each burst, 3) the attenuator setting, and 4) the sample number within each chirp. \n",
    "\n",
    "\n",
    "```{figure} images/ApRES_data_diagram_attended.png\n",
    "---\n",
    "height: 250px\n",
    "name: fig:apres_survey_structure_attended\n",
    "---\n",
    "The structure of an attended ApRES survey. Typically, profiles produced from two (or more) chirps collected a the same waypoint but at different times are compared to compute displacements.\n",
    "```\n",
    "\n",
    "### Attended surveys\n",
    "{numref}`fig:apres_survey_structure_attended` depicts one possible structure of an attended survey, where the radar is operated manually and the operator moves the system to different locations for each burst (or small group of bursts)\n",
    ":Chirps: The chirps are identical to those in the unattended survey.\n",
    ":Bursts: The chirps are grouped into 'bursts'. At each waypoint the operator will perform one or a small number of bursts. In a polarimetric survey the antennas are rotated between each burst. \n",
    ":Attenuator settings: Bursts with different attenuator settings are cycled through in the same way as in unattended surveys.\n",
    "\n",
    "Again, this leads to a four-dimensional dataset, but the waypoint number is used instead of the time of each burst. (The time of each burst is still recorded, it just is not one of the dimensions of the dataset\n",
    "\n",
    "A typical workflow for processing datasets collected in attended or unattended surveys is through nested for-loops. It can be a challenge keeping track of which bursts to compare.  \n",
    "Meeting this challenge is a motivation for the development of xapres. \n",
    "\n",
    "## Theoretical background\n",
    "{cite}`brennan_phase-sensitive_2014` describes the theory behind the ApRES system. Two key concepts are (1) the frequency content of the signal recorded by the system contains information about the location and strength of sub-surface reflectors, and (2) the phase of each frequency component contains precise information about the location of the reflectors. \n",
    "\n",
    "[Here](https://ldeo-glaciology.github.io/glaciology-intro-book/sections/radar/apres/apres-intro.html) are some resources that explain some aspects of ApRES theory in detail. "
   ]
  }
 ],
 "metadata": {
  "language_info": {
   "name": "python"
  }
 },
 "nbformat": 4,
 "nbformat_minor": 2
}
