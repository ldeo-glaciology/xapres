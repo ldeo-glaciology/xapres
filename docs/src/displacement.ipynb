{
 "cells": [
  {
   "cell_type": "markdown",
   "metadata": {},
   "source": [
    "# Computing displacements and strain rates\n",
    "\n",
    "## Introduction\n",
    "The ApRES radar system's primary purpose is to precisely measure the displacement of reflectors. These reflectors can be internal reflecting horizons within the ice or the interface between the ice and the bed or between the ice and the ocean. Displacement is measured in terms of distance from the radar and this is usually assumed to be in the vertical direction. Displacement is computed by comparing two ApRES measurements. Specifically, by comparing the complex-valued profiles that are produced from the raw ApRES measurements using a fourier transform. The comparison between profiles can be performed in a number of different ways. In xapres we use the coherence method, where the profiles are binned vertically and the complex coherence between the two binned profiles is computed. The phase of this coherence can be converted into vertical displacement {cite}`brennan_phase-sensitive_2014`.\n",
    "\n",
    "xapres provides functions to compute displacements in this way, along with associated uncertainties. You can use just two profiles using `xapres.utils.compute_displacement`, which is suitable for attended surveys or when you want to compare just two time slices in an unattended survey, or compute a time series of displacement from multiple profiles using `displacement_timeseries`, which is suitable for unattended surveys.\n",
    "\n",
    "## Computing displacements from two profiles\n",
    "Let's load data from an 12-month unattended survey on Thwaites Glacier, West Antarctica. "
   ]
  },
  {
   "cell_type": "code",
   "execution_count": 33,
   "metadata": {},
   "outputs": [
    {
     "name": "stdout",
     "output_type": "stream",
     "text": []
    }
   ],
   "source": [
    "%load_ext autoreload\n",
    "\n",
    "%autoreload 2\n",
    "import sys\n",
    "sys.path.append(\"../../../xapres\") \n",
    "import xapres as xa\n",
    "\n",
    "from_zarr = xa.load.load_zarr('gs://ldeo-glaciology/apres/thwaites/continuous/ApRES_LTG/zarr/full.zarr') "
   ]
  },
  {
   "cell_type": "markdown",
   "metadata": {},
   "source": [
    "Next we will extract two profiles seprated by around two days. "
   ]
  },
  {
   "cell_type": "code",
   "execution_count": 34,
   "metadata": {},
   "outputs": [],
   "source": [
    "p1 = from_zarr.sel(time='2023-07-17').isel(time=0)\n",
    "p2 = from_zarr.sel(time='2023-07-19').isel(time=0)"
   ]
  },
  {
   "cell_type": "markdown",
   "metadata": {},
   "source": [
    "Note that in the first line above `from_zarr.sel(time='2022-07-17')` selects al the data from the 17th of July 2022, then `.isel(time=0)` selects the first burst from that day. In the second line above the same thing is done for the 19th. \n",
    "\n",
    "Next we will average over all the chirps in each burst, which is usually referred to as stacking (see {ref}`page:how-to-stacking`). We then load the data into memory with `.load()`; it is lazily loaded by default (see {ref}`page:how-to-loading`)."
   ]
  },
  {
   "cell_type": "code",
   "execution_count": 35,
   "metadata": {},
   "outputs": [],
   "source": [
    "p1_stacked = p1.profile.mean(dim='chirp_num').load()\n",
    "p2_stacked = p2.profile.mean(dim='chirp_num').load()"
   ]
  },
  {
   "cell_type": "markdown",
   "metadata": {},
   "source": [
    "To compute the displacement between the two profiles we use the function `xapres.utils.compute_displacement`:"
   ]
  },
  {
   "cell_type": "code",
   "execution_count": 70,
   "metadata": {},
   "outputs": [
    {
     "name": "stdout",
     "output_type": "stream",
     "text": []
    }
   ],
   "source": [
    "profiles = xa.utils.compute_displacement(p1_stacked, p2_stacked)\n",
    "profiles "
   ]
  },
  {
   "cell_type": "markdown",
   "metadata": {},
   "source": [
    "This produces a new xarray dataset containing the original profiles and the following quantities computed in vertical bins\n",
    "- the coherence between the profiles, \n",
    "- the phase difference, \n",
    "- the vertical displacement,\n",
    "- the vertial velocity,\n",
    "- and the variances in the phase difference, displacement and velocity.\n",
    "   \n",
    "From this you can plot the magnitude of the coherence, which is related to the uncertainty in the displacement measurement. "
   ]
  },
  {
   "cell_type": "code",
   "execution_count": 14,
   "metadata": {},
   "outputs": [
    {
     "name": "stdout",
     "output_type": "stream",
     "text": []
    }
   ],
   "source": [
    "import numpy as np\n",
    "np.abs(profiles.coherence).plot(figsize = (20,5), x = 'bin_depth');"
   ]
  },
  {
   "cell_type": "markdown",
   "metadata": {},
   "source": [
    "You can also plot the phase difference:"
   ]
  },
  {
   "cell_type": "code",
   "execution_count": 73,
   "metadata": {},
   "outputs": [
    {
     "name": "stdout",
     "output_type": "stream",
     "text": []
    }
   ],
   "source": [
    "profiles.phase.plot(figsize = (20,5), x = 'bin_depth');"
   ]
  },
  {
   "cell_type": "markdown",
   "metadata": {},
   "source": [
    "Finally, let's plot the vertical displacement while converting to centimeters, changing the axis limits, and adding error bars based on the variance in the phase difference computed using the so-called *Cramer–Rao Bound* (eqn 67, [Rosen et al., 2000](https://ieeexplore.ieee.org/stamp/stamp.jsp?tp=&arnumber=838084))."
   ]
  },
  {
   "cell_type": "code",
   "execution_count": 76,
   "metadata": {},
   "outputs": [
    {
     "name": "stdout",
     "output_type": "stream",
     "text": []
    }
   ],
   "source": [
    "import matplotlib.pyplot as plt\n",
    "\n",
    "fig, ax = plt.subplots(figsize = (20,5))\n",
    "x = profiles.bin_depth.values\n",
    "y = profiles.displacement.values.squeeze()\n",
    "yerr = (profiles.disp_variance.values.squeeze())**0.5\n",
    "ax.errorbar(x=x, y=y, yerr=yerr, fmt='.')\n",
    "ax.set_xlim(0, 1000)\n",
    "ax.set_ylim(-0.01, 0.05)\n",
    "ax.set_xlabel('Depth (m)')\n",
    "ax.set_ylabel('Displacement (m)')\n",
    "plt.show()"
   ]
  },
  {
   "cell_type": "markdown",
   "metadata": {},
   "source": [
    "## Computing displacements from multiple profiles\n",
    "You can also feed two datasets each containing multiple profiles into `compute_displacement` and it will compute the displacement between each pair of profiles. \n",
    "\n",
    "To demonstrate this we will create two time series of profiles from the full unattended survey on Thwaites Glacier stored in `from_zarr`. One of the two time series will consist of all the time slices except the last one and the other will consist of all the profiles except the first one. As shown in {numref}`fig:offset_in_time`, when you align these time series you get a time series of pairs of profiles that are separated by one time slice.\n",
    "\n",
    "\n",
    "```{figure} images/offset_in_time.png\n",
    "---\n",
    "height: 200\n",
    "name: fig:offset_in_time\n",
    "---\n",
    "Diagram showing the effect of combining two time series, one with the last time slice removed and the other with the first time slice removed.\n",
    "\n",
    "```"
   ]
  },
  {
   "cell_type": "code",
   "execution_count": 77,
   "metadata": {},
   "outputs": [],
   "source": [
    "t1 = from_zarr.profile_stacked.isel(time=slice(0,-1))\n",
    "t2 = from_zarr.profile_stacked.isel(time=slice(1,None))"
   ]
  },
  {
   "cell_type": "markdown",
   "metadata": {},
   "source": [
    "We can feed both time series into `compute_displacement` and plot the results:"
   ]
  },
  {
   "cell_type": "code",
   "execution_count": 80,
   "metadata": {},
   "outputs": [
    {
     "name": "stdout",
     "output_type": "stream",
     "text": []
    }
   ],
   "source": [
    "t1"
   ]
  },
  {
   "cell_type": "code",
   "execution_count": 101,
   "metadata": {},
   "outputs": [
    {
     "name": "stdout",
     "output_type": "stream",
     "text": []
    }
   ],
   "source": [
    "xa.utils.compute_displacement(t1, t2)\\\n",
    "        .displacement\\\n",
    "        .plot(figsize = (20,5), y='bin_depth', x='time', yincrease = False);"
   ]
  },
  {
   "cell_type": "markdown",
   "metadata": {},
   "source": [
    "### `displacement_timeseries`\n",
    "This offset comparison between adjacent time slices is such a common procedure that xapres adds a method to xarray datasets called `displacement_timeseries` to do it for you. "
   ]
  },
  {
   "cell_type": "code",
   "execution_count": 113,
   "metadata": {},
   "outputs": [
    {
     "name": "stdout",
     "output_type": "stream",
     "text": []
    }
   ],
   "source": [
    "displacements_ds = from_zarr.profile_stacked.displacement_timeseries()\n",
    "displacements_ds.velocity.plot(figsize = (20,5), y='bin_depth', x='time', yincrease = False, vmin=-10, vmax=10, cmap ='RdBu_r');"
   ]
  },
  {
   "cell_type": "markdown",
   "metadata": {},
   "source": [
    "### Options when computing displacements\n",
    "You can set two optional parameters when computing vertical displacements with `displacement_timeseries`.\n",
    "\n",
    ":offset: the number of time slices between the profiles to be compared. The default is 1. In other words, this is the number of time slices removed at the start and end of the time series before the two time series are aligned ({numref}`fig:offset_in_time`).\n",
    ":bin_size: this is the vertical bin size in sample number. The default is 20. The samples are `profiles.profile_range[1]`=0.21 m apart. So the default of 20 samples produces bins around 4.2 m in height. \n",
    "\n",
    "```{note}\n",
    "You can also set `offset` and `bin_size` when using `compute_displacement` directly. \n",
    "```\n",
    "\n",
    "In general, increasing the bin size smooths vertically and increasing the offset smooths temporally, with associated losses in detail when things are changing rapidly in space or time. \n",
    " "
   ]
  },
  {
   "cell_type": "code",
   "execution_count": 103,
   "metadata": {},
   "outputs": [
    {
     "name": "stdout",
     "output_type": "stream",
     "text": []
    }
   ],
   "source": [
    "from_zarr.profile_stacked.displacement_timeseries(bin_size = 40, offset = 5)\\\n",
    "        .velocity\\\n",
    "        .plot(figsize = (20,5), y='bin_depth', x='time', yincrease = False, vmin=-10, vmax=10, cmap ='RdBu_r');"
   ]
  },
  {
   "cell_type": "markdown",
   "metadata": {},
   "source": [
    "## Strain rates\n",
    "`displacement_timeseries` and `compute_displacement` also compute vertical strain rates in a simplified way using a linear fit to the vertical velocity profiles. The fit is a weighted least-squares fit perforedmed by numpy's polyfit. The weighting is inverse-variance weighting using the variance in the velocities estimated using the so-called *Cramer–Rao Bound* (eqn 67, [Rosen et al., 2000](https://ieeexplore.ieee.org/stamp/stamp.jsp?tp=&arnumber=838084)). By default, the linear fit this is performed using the upper 800 m of the ice column. \n",
    "\n"
   ]
  },
  {
   "cell_type": "code",
   "execution_count": 107,
   "metadata": {},
   "outputs": [
    {
     "name": "stdout",
     "output_type": "stream",
     "text": []
    }
   ],
   "source": [
    "displacements_ds.strain_rate.plot(figsize = (20,5));"
   ]
  },
  {
   "cell_type": "markdown",
   "metadata": {},
   "source": [
    "The linear fit provides estimates of the variance of the strain rates. You can add error bars to the plot above based on these estimates as follows:"
   ]
  },
  {
   "cell_type": "code",
   "execution_count": 123,
   "metadata": {},
   "outputs": [
    {
     "name": "stdout",
     "output_type": "stream",
     "text": []
    }
   ],
   "source": [
    "fig, ax = plt.subplots(figsize = (20,5))\n",
    "\n",
    "plt.errorbar(displacements_ds.time.values, displacements_ds.strain_rate.values.squeeze(), yerr=displacements_ds.strain_rate_variance.values.squeeze()**0.5, fmt='.');"
   ]
  },
  {
   "cell_type": "markdown",
   "metadata": {},
   "source": [
    "You can also plot the r-squared value (the coefficient of determination) of the linear fits to the vertical velocity profiles."
   ]
  },
  {
   "cell_type": "code",
   "execution_count": 126,
   "metadata": {},
   "outputs": [
    {
     "name": "stdout",
     "output_type": "stream",
     "text": []
    }
   ],
   "source": [
    "displacements_ds.r_squared.plot(figsize = (20,5));"
   ]
  },
  {
   "cell_type": "markdown",
   "metadata": {},
   "source": [
    "To change the range of depths used in the fit, adjust optional parameters `min_depth_for_ezz_fit` and `max_depth_for_ezz_fit`:"
   ]
  },
  {
   "cell_type": "code",
   "execution_count": 125,
   "metadata": {},
   "outputs": [
    {
     "name": "stdout",
     "output_type": "stream",
     "text": []
    }
   ],
   "source": [
    "from_zarr.profile_stacked.displacement_timeseries(min_depth_for_ezz_fit=50, max_depth_for_ezz_fit=500).strain_rate.plot(figsize = (20,5));"
   ]
  },
  {
   "cell_type": "markdown",
   "metadata": {},
   "source": [
    "## Summary\n",
    "You can compute displacements (and velocities, vertical strain rates, coherence, etc.) from pairs of ApRES profiles using `xapres.utils.compute_displacement` and `displacement_timeseries`.\n",
    "Both functions take optional parameters to adjust the bin size and offset when computing displacements. \n",
    "They also compute vertical strain rates using a linear fit to the vertical velocity profiles in the upper part of the ice column. The depth range of velocity values used in this fit can be adjusted with `min_depth_for_ezz_fit` and `max_depth_for_ezz_fit`."
   ]
  }
 ],
 "metadata": {
  "kernelspec": {
   "display_name": "jupyter-book-env",
   "language": "python",
   "name": "python3"
  },
  "language_info": {
   "codemirror_mode": {
    "name": "ipython",
    "version": 3
   },
   "file_extension": ".py",
   "mimetype": "text/x-python",
   "name": "python",
   "nbconvert_exporter": "python",
   "pygments_lexer": "ipython3",
   "version": "3.13.1"
  }
 },
 "nbformat": 4,
 "nbformat_minor": 2
}
