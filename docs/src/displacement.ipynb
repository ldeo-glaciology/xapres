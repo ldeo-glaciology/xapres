{
 "cells": [
  {
   "cell_type": "markdown",
   "metadata": {},
   "source": []
  },
  {
   "cell_type": "code",
   "execution_count": null,
   "metadata": {},
   "outputs": [],
   "source": [
    "from_zarr = xa.load.load_zarr('gs://ldeo-glaciology/apres/thwaites/continuous/ApRES_LTG/zarr/full.zarr') #\n",
    "\n",
    "p1 = from_zarr.sel(time='2023-07-17').isel(time=0).profile_stacked.load()\n",
    "p2 = from_zarr.sel(time='2023-07-19').isel(time=0).profile_stacked.load()"
   ]
  }
 ],
 "metadata": {
  "kernelspec": {
   "display_name": "jupyter-book-env",
   "language": "python",
   "name": "python3"
  },
  "language_info": {
   "name": "python",
   "version": "3.13.1"
  }
 },
 "nbformat": 4,
 "nbformat_minor": 2
}
